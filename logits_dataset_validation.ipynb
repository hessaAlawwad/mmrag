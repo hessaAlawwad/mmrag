{
 "cells": [
  {
   "cell_type": "code",
   "execution_count": 33,
   "id": "ab751790-2582-4532-a7f9-45dbe277a43b",
   "metadata": {},
   "outputs": [],
   "source": [
    "import pandas as pd\n",
    "import json"
   ]
  },
  {
   "cell_type": "code",
   "execution_count": 34,
   "id": "8ee17b73-e5f0-43c8-800e-0bca882c4901",
   "metadata": {},
   "outputs": [
    {
     "name": "stderr",
     "output_type": "stream",
     "text": [
      "/var/folders/50/ddkl_7r93pv5mq0_h58b4lv80000gn/T/ipykernel_97834/571563597.py:1: DtypeWarning: Columns (1) have mixed types. Specify dtype option on import or set low_memory=False.\n",
      "  output_file = pd.read_csv('./data/all_train_pairs_combined_results_finetunedModel.csv')\n"
     ]
    }
   ],
   "source": [
    "output_file = pd.read_csv('./data/all_train_pairs_combined_results_finetunedModel.csv')"
   ]
  },
  {
   "cell_type": "code",
   "execution_count": 35,
   "id": "c2a31443-1fc6-4fcc-b00d-7ee196a1b2b3",
   "metadata": {},
   "outputs": [
    {
     "data": {
      "text/plain": [
       "label\n",
       "a    40014\n",
       "b    39375\n",
       "d    27747\n",
       "c    25083\n",
       "e     1422\n",
       "f     1404\n",
       "g     1332\n",
       "Name: count, dtype: int64"
      ]
     },
     "execution_count": 35,
     "metadata": {},
     "output_type": "execute_result"
    }
   ],
   "source": [
    "output_file.label.value_counts()"
   ]
  },
  {
   "cell_type": "code",
   "execution_count": 40,
   "id": "133cb961-60ff-4427-908a-92c28c995c43",
   "metadata": {
    "scrolled": true
   },
   "outputs": [
    {
     "data": {
      "text/plain": [
       "\"[{'letter': 'e', 'logit': 27.9375, 'probability': 0.9520723819732666}, {'letter': 'd', 'logit': 24.734375, 'probability': 0.03868747875094414}, {'letter': 'b', 'logit': 22.234375, 'probability': 0.0031756616663187742}, {'letter': 'a', 'logit': 22.03125, 'probability': 0.00259189959615469}, {'letter': 'c', 'logit': 21.65625, 'probability': 0.00178138492628932}, {'letter': 'g', 'logit': 21.09375, 'probability': 0.0010150026064366102}, {'letter': 'f', 'logit': 20.6875, 'probability': 0.0006761374534107745}]\""
      ]
     },
     "execution_count": 40,
     "metadata": {},
     "output_type": "execute_result"
    }
   ],
   "source": [
    "# Check one\n",
    "\n",
    "a = output_file[output_file.label == 'e']\n",
    "a.iloc[0].logits"
   ]
  },
  {
   "cell_type": "markdown",
   "id": "b130366f-cef0-4d1b-9b0d-0ff179988697",
   "metadata": {},
   "source": [
    "## Data Cleaning"
   ]
  },
  {
   "cell_type": "code",
   "execution_count": 41,
   "id": "13eca7fb-c62f-4a0c-b31f-9495052d866a",
   "metadata": {
    "scrolled": true
   },
   "outputs": [
    {
     "data": {
      "text/html": [
       "<div>\n",
       "<style scoped>\n",
       "    .dataframe tbody tr th:only-of-type {\n",
       "        vertical-align: middle;\n",
       "    }\n",
       "\n",
       "    .dataframe tbody tr th {\n",
       "        vertical-align: top;\n",
       "    }\n",
       "\n",
       "    .dataframe thead th {\n",
       "        text-align: right;\n",
       "    }\n",
       "</style>\n",
       "<table border=\"1\" class=\"dataframe\">\n",
       "  <thead>\n",
       "    <tr style=\"text-align: right;\">\n",
       "      <th></th>\n",
       "      <th>question_text</th>\n",
       "      <th>question_image</th>\n",
       "      <th>answer_choices</th>\n",
       "      <th>context_image</th>\n",
       "      <th>context_image_caption</th>\n",
       "      <th>text_context</th>\n",
       "      <th>label</th>\n",
       "      <th>predicted_answer</th>\n",
       "      <th>logits</th>\n",
       "    </tr>\n",
       "  </thead>\n",
       "  <tbody>\n",
       "    <tr>\n",
       "      <th>0</th>\n",
       "      <td>How many actions are depicted in the diagram?</td>\n",
       "      <td>question_images/erosion_6843.png</td>\n",
       "      <td>a. 6, b. 4, c. 8, d. 7</td>\n",
       "      <td>teaching_images/erosion_6859.png</td>\n",
       "      <td>The diagram represents the coastal Erosion of ...</td>\n",
       "      <td>Most fossils are preserved by one of five proc...</td>\n",
       "      <td>d</td>\n",
       "      <td>d</td>\n",
       "      <td>[25.40625, 22.484375, 25.484375, 27.265625, 0....</td>\n",
       "    </tr>\n",
       "    <tr>\n",
       "      <th>1</th>\n",
       "      <td>How many actions are depicted in the diagram?</td>\n",
       "      <td>question_images/erosion_6843.png</td>\n",
       "      <td>a. 6, b. 4, c. 8, d. 7</td>\n",
       "      <td>textbook_images/erosion_and_deposition_by_flow...</td>\n",
       "      <td>FIGURE 10.5 How a Waterfall Forms and Moves. W...</td>\n",
       "      <td>Most fossils are preserved by one of five proc...</td>\n",
       "      <td>d</td>\n",
       "      <td>d</td>\n",
       "      <td>[24.953125, 22.390625, 24.984375, 26.9375, 0.0...</td>\n",
       "    </tr>\n",
       "    <tr>\n",
       "      <th>2</th>\n",
       "      <td>How many actions are depicted in the diagram?</td>\n",
       "      <td>question_images/erosion_6843.png</td>\n",
       "      <td>a. 6, b. 4, c. 8, d. 7</td>\n",
       "      <td>teaching_images/cycle_rock_6723.png</td>\n",
       "      <td>The diagram shows types of rocks and rock form...</td>\n",
       "      <td>Most fossils are preserved by one of five proc...</td>\n",
       "      <td>d</td>\n",
       "      <td>d</td>\n",
       "      <td>[25.109375, 22.71875, 25.453125, 27.328125, 0....</td>\n",
       "    </tr>\n",
       "    <tr>\n",
       "      <th>3</th>\n",
       "      <td>How many actions are depicted in the diagram?</td>\n",
       "      <td>question_images/erosion_6843.png</td>\n",
       "      <td>a. 6, b. 4, c. 8, d. 7</td>\n",
       "      <td>teaching_images/erosion_6859.png</td>\n",
       "      <td>The diagram represents the coastal Erosion of ...</td>\n",
       "      <td>1. What is the traditional definition of gravi...</td>\n",
       "      <td>d</td>\n",
       "      <td>d</td>\n",
       "      <td>[25.359375, 22.578125, 25.140625, 27.234375, 0...</td>\n",
       "    </tr>\n",
       "    <tr>\n",
       "      <th>4</th>\n",
       "      <td>How many actions are depicted in the diagram?</td>\n",
       "      <td>question_images/erosion_6843.png</td>\n",
       "      <td>a. 6, b. 4, c. 8, d. 7</td>\n",
       "      <td>textbook_images/erosion_and_deposition_by_flow...</td>\n",
       "      <td>FIGURE 10.5 How a Waterfall Forms and Moves. W...</td>\n",
       "      <td>1. What is the traditional definition of gravi...</td>\n",
       "      <td>d</td>\n",
       "      <td>d</td>\n",
       "      <td>[24.8125, 22.40625, 24.71875, 26.953125, 0.0, ...</td>\n",
       "    </tr>\n",
       "    <tr>\n",
       "      <th>...</th>\n",
       "      <td>...</td>\n",
       "      <td>...</td>\n",
       "      <td>...</td>\n",
       "      <td>...</td>\n",
       "      <td>...</td>\n",
       "      <td>...</td>\n",
       "      <td>...</td>\n",
       "      <td>...</td>\n",
       "      <td>...</td>\n",
       "    </tr>\n",
       "    <tr>\n",
       "      <th>95</th>\n",
       "      <td>How many types of rocks are shown in the diagram?</td>\n",
       "      <td>question_images/erosion_6850.png</td>\n",
       "      <td>a. 2, b. 1, c. 4, d. 3</td>\n",
       "      <td>teaching_images/parts_ocean_floor_9206.png</td>\n",
       "      <td>This diagram shows an abbreviated version of u...</td>\n",
       "      <td>Sedimentary rocks form in two ways. Particles ...</td>\n",
       "      <td>d</td>\n",
       "      <td>a</td>\n",
       "      <td>[27.078125, 23.171875, 24.203125, 25.15625, 0....</td>\n",
       "    </tr>\n",
       "    <tr>\n",
       "      <th>96</th>\n",
       "      <td>How many types of rocks are shown in the diagram?</td>\n",
       "      <td>question_images/erosion_6850.png</td>\n",
       "      <td>a. 2, b. 1, c. 4, d. 3</td>\n",
       "      <td>teaching_images/erosion_8064.png</td>\n",
       "      <td>The diagram shows how a waterfall is formed by...</td>\n",
       "      <td>Index fossils are commonly used to match rock ...</td>\n",
       "      <td>d</td>\n",
       "      <td>a</td>\n",
       "      <td>[27.765625, 22.40625, 24.078125, 25.265625, 0....</td>\n",
       "    </tr>\n",
       "    <tr>\n",
       "      <th>97</th>\n",
       "      <td>How many types of rocks are shown in the diagram?</td>\n",
       "      <td>question_images/erosion_6850.png</td>\n",
       "      <td>a. 2, b. 1, c. 4, d. 3</td>\n",
       "      <td>textbook_images/erosion_and_deposition_by_flow...</td>\n",
       "      <td>FIGURE 10.5 How a Waterfall Forms and Moves. W...</td>\n",
       "      <td>Index fossils are commonly used to match rock ...</td>\n",
       "      <td>d</td>\n",
       "      <td>a</td>\n",
       "      <td>[27.28125, 22.6875, 24.296875, 25.484375, 0.0,...</td>\n",
       "    </tr>\n",
       "    <tr>\n",
       "      <th>98</th>\n",
       "      <td>How many types of rocks are shown in the diagram?</td>\n",
       "      <td>question_images/erosion_6850.png</td>\n",
       "      <td>a. 2, b. 1, c. 4, d. 3</td>\n",
       "      <td>teaching_images/parts_ocean_floor_9206.png</td>\n",
       "      <td>This diagram shows an abbreviated version of u...</td>\n",
       "      <td>Index fossils are commonly used to match rock ...</td>\n",
       "      <td>d</td>\n",
       "      <td>a</td>\n",
       "      <td>[27.421875, 22.671875, 24.375, 25.4375, 0.0, 0...</td>\n",
       "    </tr>\n",
       "    <tr>\n",
       "      <th>99</th>\n",
       "      <td>What collapses and creates a fall?</td>\n",
       "      <td>question_images/erosion_6850.png</td>\n",
       "      <td>a. plunge pool, b. overhang, c. pebbles and st...</td>\n",
       "      <td>teaching_images/erosion_8064.png</td>\n",
       "      <td>The diagram shows how a waterfall is formed by...</td>\n",
       "      <td>Despite these problems, there is a rich fossil...</td>\n",
       "      <td>b</td>\n",
       "      <td>b</td>\n",
       "      <td>[22.53125, 28.578125, 22.6875, 23.4375, 0.0, 0...</td>\n",
       "    </tr>\n",
       "  </tbody>\n",
       "</table>\n",
       "<p>100 rows × 9 columns</p>\n",
       "</div>"
      ],
      "text/plain": [
       "                                        question_text  \\\n",
       "0       How many actions are depicted in the diagram?   \n",
       "1       How many actions are depicted in the diagram?   \n",
       "2       How many actions are depicted in the diagram?   \n",
       "3       How many actions are depicted in the diagram?   \n",
       "4       How many actions are depicted in the diagram?   \n",
       "..                                                ...   \n",
       "95  How many types of rocks are shown in the diagram?   \n",
       "96  How many types of rocks are shown in the diagram?   \n",
       "97  How many types of rocks are shown in the diagram?   \n",
       "98  How many types of rocks are shown in the diagram?   \n",
       "99                 What collapses and creates a fall?   \n",
       "\n",
       "                      question_image  \\\n",
       "0   question_images/erosion_6843.png   \n",
       "1   question_images/erosion_6843.png   \n",
       "2   question_images/erosion_6843.png   \n",
       "3   question_images/erosion_6843.png   \n",
       "4   question_images/erosion_6843.png   \n",
       "..                               ...   \n",
       "95  question_images/erosion_6850.png   \n",
       "96  question_images/erosion_6850.png   \n",
       "97  question_images/erosion_6850.png   \n",
       "98  question_images/erosion_6850.png   \n",
       "99  question_images/erosion_6850.png   \n",
       "\n",
       "                                       answer_choices  \\\n",
       "0                              a. 6, b. 4, c. 8, d. 7   \n",
       "1                              a. 6, b. 4, c. 8, d. 7   \n",
       "2                              a. 6, b. 4, c. 8, d. 7   \n",
       "3                              a. 6, b. 4, c. 8, d. 7   \n",
       "4                              a. 6, b. 4, c. 8, d. 7   \n",
       "..                                                ...   \n",
       "95                             a. 2, b. 1, c. 4, d. 3   \n",
       "96                             a. 2, b. 1, c. 4, d. 3   \n",
       "97                             a. 2, b. 1, c. 4, d. 3   \n",
       "98                             a. 2, b. 1, c. 4, d. 3   \n",
       "99  a. plunge pool, b. overhang, c. pebbles and st...   \n",
       "\n",
       "                                        context_image  \\\n",
       "0                    teaching_images/erosion_6859.png   \n",
       "1   textbook_images/erosion_and_deposition_by_flow...   \n",
       "2                 teaching_images/cycle_rock_6723.png   \n",
       "3                    teaching_images/erosion_6859.png   \n",
       "4   textbook_images/erosion_and_deposition_by_flow...   \n",
       "..                                                ...   \n",
       "95         teaching_images/parts_ocean_floor_9206.png   \n",
       "96                   teaching_images/erosion_8064.png   \n",
       "97  textbook_images/erosion_and_deposition_by_flow...   \n",
       "98         teaching_images/parts_ocean_floor_9206.png   \n",
       "99                   teaching_images/erosion_8064.png   \n",
       "\n",
       "                                context_image_caption  \\\n",
       "0   The diagram represents the coastal Erosion of ...   \n",
       "1   FIGURE 10.5 How a Waterfall Forms and Moves. W...   \n",
       "2   The diagram shows types of rocks and rock form...   \n",
       "3   The diagram represents the coastal Erosion of ...   \n",
       "4   FIGURE 10.5 How a Waterfall Forms and Moves. W...   \n",
       "..                                                ...   \n",
       "95  This diagram shows an abbreviated version of u...   \n",
       "96  The diagram shows how a waterfall is formed by...   \n",
       "97  FIGURE 10.5 How a Waterfall Forms and Moves. W...   \n",
       "98  This diagram shows an abbreviated version of u...   \n",
       "99  The diagram shows how a waterfall is formed by...   \n",
       "\n",
       "                                         text_context label predicted_answer  \\\n",
       "0   Most fossils are preserved by one of five proc...     d                d   \n",
       "1   Most fossils are preserved by one of five proc...     d                d   \n",
       "2   Most fossils are preserved by one of five proc...     d                d   \n",
       "3   1. What is the traditional definition of gravi...     d                d   \n",
       "4   1. What is the traditional definition of gravi...     d                d   \n",
       "..                                                ...   ...              ...   \n",
       "95  Sedimentary rocks form in two ways. Particles ...     d                a   \n",
       "96  Index fossils are commonly used to match rock ...     d                a   \n",
       "97  Index fossils are commonly used to match rock ...     d                a   \n",
       "98  Index fossils are commonly used to match rock ...     d                a   \n",
       "99  Despite these problems, there is a rich fossil...     b                b   \n",
       "\n",
       "                                               logits  \n",
       "0   [25.40625, 22.484375, 25.484375, 27.265625, 0....  \n",
       "1   [24.953125, 22.390625, 24.984375, 26.9375, 0.0...  \n",
       "2   [25.109375, 22.71875, 25.453125, 27.328125, 0....  \n",
       "3   [25.359375, 22.578125, 25.140625, 27.234375, 0...  \n",
       "4   [24.8125, 22.40625, 24.71875, 26.953125, 0.0, ...  \n",
       "..                                                ...  \n",
       "95  [27.078125, 23.171875, 24.203125, 25.15625, 0....  \n",
       "96  [27.765625, 22.40625, 24.078125, 25.265625, 0....  \n",
       "97  [27.28125, 22.6875, 24.296875, 25.484375, 0.0,...  \n",
       "98  [27.421875, 22.671875, 24.375, 25.4375, 0.0, 0...  \n",
       "99  [22.53125, 28.578125, 22.6875, 23.4375, 0.0, 0...  \n",
       "\n",
       "[100 rows x 9 columns]"
      ]
     },
     "execution_count": 41,
     "metadata": {},
     "output_type": "execute_result"
    }
   ],
   "source": [
    "import ast\n",
    "import numpy as np\n",
    "\n",
    "# First, let's standardize the answer choices\n",
    "valid_choices = ['a', 'b', 'c', 'd', 'e', 'f', 'g']\n",
    "\n",
    "# Function to convert string representation of logits to numpy array\n",
    "def extract_logits(logits_str):\n",
    "    '''\n",
    "    The resulting logits will be stored as numpy arrays with shape (4,), \n",
    "    corresponding to the logits for ['a', 'b', 'c', 'd', 'e', 'f', 'g'] in that order.\n",
    "    '''\n",
    "    try:\n",
    "        # Convert string to list of dicts\n",
    "        logits_list = ast.literal_eval(logits_str)\n",
    "        \n",
    "        # Create a dictionary to store logits for valid choices\n",
    "        logits_dict = {item['letter'].lower(): item['logit'] for item in logits_list \n",
    "                      if item['letter'].lower() in valid_choices}\n",
    "        \n",
    "        # Create array in consistent order\n",
    "        return np.array([logits_dict.get(choice, 0.0) for choice in valid_choices])\n",
    "    except:\n",
    "        return np.zeros(len(valid_choices))\n",
    "\n",
    "# Process the dataframe\n",
    "def process_dataset(df):\n",
    "    # Create a copy to avoid modifying original\n",
    "    processed_df = df.copy()\n",
    "    \n",
    "    # Convert predicted answers to lowercase\n",
    "    processed_df['predicted_answer'] = processed_df['predicted_answer'].str.lower()\n",
    "    \n",
    "    # Filter out invalid predictions\n",
    "    processed_df = processed_df[processed_df['predicted_answer'].isin(valid_choices)]\n",
    "    \n",
    "    # Convert logits to numpy arrays\n",
    "    processed_df['logits'] = processed_df['logits'].apply(extract_logits)\n",
    "    \n",
    "    # Drop the original sorted_logits column\n",
    "    # processed_df = processed_df.drop('logits', axis=1)\n",
    "    \n",
    "    return processed_df\n",
    "\n",
    "# Process the dataset\n",
    "cleaned_output = process_dataset(output_file)\n",
    "\n",
    "cleaned_output.head(100)"
   ]
  },
  {
   "cell_type": "code",
   "execution_count": 45,
   "id": "b5940dc9-099e-4008-a7cf-b602309675f9",
   "metadata": {},
   "outputs": [
    {
     "name": "stdout",
     "output_type": "stream",
     "text": [
      "Unique predictions after cleaning:\n",
      "predicted_answer\n",
      "a    42874\n",
      "b    38378\n",
      "d    26276\n",
      "c    24726\n",
      "e     1437\n",
      "f     1396\n",
      "g     1289\n",
      "Name: count, dtype: int64\n",
      "\n",
      "Sample logits array:\n",
      "[25.40625  22.484375 25.484375 27.265625  0.        0.        0.      ]\n"
     ]
    }
   ],
   "source": [
    "# Verify the results\n",
    "print(\"Unique predictions after cleaning:\")\n",
    "print(cleaned_output.predicted_answer.value_counts())\n",
    "print(\"\\nSample logits array:\")\n",
    "print(cleaned_output['logits'].iloc[0])"
   ]
  },
  {
   "cell_type": "code",
   "execution_count": 46,
   "id": "c0260a1f-60fc-44c4-8cd8-090b42b81eca",
   "metadata": {},
   "outputs": [
    {
     "data": {
      "text/plain": [
       "question_text                         study of all aspects of planet Earth\n",
       "question_image                                                         NaN\n",
       "answer_choices           a. astronomy, b. oceanography, c. geology, d. ...\n",
       "context_image                       textbook_images/planet_earth_20364.png\n",
       "context_image_caption    FIGURE 24.1 This is how the Earth looks from s...\n",
       "text_context             Earths climate has changed many times through ...\n",
       "label                                                                    e\n",
       "predicted_answer                                                         e\n",
       "logits                   [22.03125, 22.234375, 21.65625, 24.734375, 27....\n",
       "Name: 58608, dtype: object"
      ]
     },
     "execution_count": 46,
     "metadata": {},
     "output_type": "execute_result"
    }
   ],
   "source": [
    "# Check one again\n",
    "a = cleaned_output[cleaned_output.label == 'e']\n",
    "a.iloc[0]"
   ]
  },
  {
   "cell_type": "markdown",
   "id": "0ef28f02-0e58-490f-9e09-96b820056e36",
   "metadata": {},
   "source": [
    "## Upload Dataset to Huggingface Hub"
   ]
  },
  {
   "cell_type": "code",
   "execution_count": 47,
   "id": "9fae10f2-a4c6-4f8c-949b-477dda980574",
   "metadata": {},
   "outputs": [],
   "source": [
    "from datasets import Dataset"
   ]
  },
  {
   "cell_type": "code",
   "execution_count": 48,
   "id": "dd12f268-3efa-4bea-8aa6-3c2f125cfd68",
   "metadata": {},
   "outputs": [
    {
     "name": "stdout",
     "output_type": "stream",
     "text": [
      "Sakonii\n",
      "\u001b[1morgs: \u001b[0m talentless-us,discord-community\n"
     ]
    }
   ],
   "source": [
    "# !huggingface-cli login\n",
    "!huggingface-cli whoami"
   ]
  },
  {
   "cell_type": "code",
   "execution_count": 49,
   "id": "654615f2-e1f9-4e55-b615-061420ec1f31",
   "metadata": {},
   "outputs": [
    {
     "data": {
      "application/vnd.jupyter.widget-view+json": {
       "model_id": "dd133e59a0a24f7aba19dbefe9fac098",
       "version_major": 2,
       "version_minor": 0
      },
      "text/plain": [
       "Uploading the dataset shards:   0%|          | 0/1 [00:00<?, ?it/s]"
      ]
     },
     "metadata": {},
     "output_type": "display_data"
    },
    {
     "data": {
      "application/vnd.jupyter.widget-view+json": {
       "model_id": "89102c7974e24b5486d46704b7bd7b79",
       "version_major": 2,
       "version_minor": 0
      },
      "text/plain": [
       "Creating parquet from Arrow format:   0%|          | 0/137 [00:00<?, ?ba/s]"
      ]
     },
     "metadata": {},
     "output_type": "display_data"
    },
    {
     "data": {
      "text/plain": [
       "CommitInfo(commit_url='https://huggingface.co/datasets/Sakonii/multimodal-logits-dataset/commit/476ffcec6f7845c8b0d92b8e0f9e2ecbf9baf21e', commit_message='Upload dataset', commit_description='', oid='476ffcec6f7845c8b0d92b8e0f9e2ecbf9baf21e', pr_url=None, repo_url=RepoUrl('https://huggingface.co/datasets/Sakonii/multimodal-logits-dataset', endpoint='https://huggingface.co', repo_type='dataset', repo_id='Sakonii/multimodal-logits-dataset'), pr_revision=None, pr_num=None)"
      ]
     },
     "execution_count": 49,
     "metadata": {},
     "output_type": "execute_result"
    }
   ],
   "source": [
    "dataset = Dataset.from_pandas(cleaned_output)\n",
    "dataset.push_to_hub(\"Sakonii/multimodal-logits-dataset\", private=True)"
   ]
  }
 ],
 "metadata": {
  "kernelspec": {
   "display_name": "Python 3 (ipykernel)",
   "language": "python",
   "name": "python3"
  },
  "language_info": {
   "codemirror_mode": {
    "name": "ipython",
    "version": 3
   },
   "file_extension": ".py",
   "mimetype": "text/x-python",
   "name": "python",
   "nbconvert_exporter": "python",
   "pygments_lexer": "ipython3",
   "version": "3.10.11"
  }
 },
 "nbformat": 4,
 "nbformat_minor": 5
}
